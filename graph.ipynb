{
 "cells": [
  {
   "cell_type": "code",
   "execution_count": 1,
   "metadata": {
    "collapsed": true
   },
   "outputs": [],
   "source": [
    "### PREAMBLE\n",
    "# Graph and network processing\n",
    "# roadNet-PA_graph.gif\n",
    "\n",
    "%matplotlib inline\n",
    "%config InlineBackend.figure_format = 'svg'\n"
   ]
  },
  {
   "cell_type": "code",
   "execution_count": 9,
   "metadata": {},
   "outputs": [
    {
     "name": "stdout",
     "output_type": "stream",
     "text": [
      "{'D', 'C', 'B', 'A'}\n"
     ]
    }
   ],
   "source": [
    "nodes = {\"A\", \"B\", \"C\", \"D\"}\n",
    "edges = {(\"A\",\"B\"), (\"B\",\"C\"), (\"C\",\"A\"), (\"C\",\"D\")}"
   ]
  },
  {
   "cell_type": "markdown",
   "metadata": {},
   "source": [
    "### Adjacency list\n",
    "\n"
   ]
  },
  {
   "cell_type": "code",
   "execution_count": 4,
   "metadata": {},
   "outputs": [
    {
     "name": "stdout",
     "output_type": "stream",
     "text": [
      "['A', 'B', 'C', 'D']\n"
     ]
    }
   ],
   "source": [
    "nodes = [\"A\", \"B\", \"C\", \"D\"]\n",
    "print(nodes)"
   ]
  },
  {
   "cell_type": "code",
   "execution_count": 5,
   "metadata": {},
   "outputs": [
    {
     "name": "stdout",
     "output_type": "stream",
     "text": [
      "{'A': 0, 'B': 1, 'C': 2, 'D': 3}\n"
     ]
    }
   ],
   "source": [
    "nodes_dict = {\"A\":0, \"B\":1, \"C\":2, \"D\":3}\n",
    "nodes_dict = {k:i for i,k in enumerate(nodes)}  # same as the above, done programmatically\n",
    "print(nodes_dict)"
   ]
  },
  {
   "cell_type": "code",
   "execution_count": null,
   "metadata": {
    "collapsed": true
   },
   "outputs": [],
   "source": [
    "adj_list = [[1], [2], [0,3], []]"
   ]
  },
  {
   "cell_type": "markdown",
   "metadata": {},
   "source": [
    "### Adjacency dictionary\n",
    "\n"
   ]
  },
  {
   "cell_type": "code",
   "execution_count": 12,
   "metadata": {
    "collapsed": true
   },
   "outputs": [],
   "source": [
    "adj_dict = {\"A\": {\"B\":1.0}, \"B\":{\"C\":1.0}, \"C\":{\"A\":1.0, \"D\":1.0}, \"D\":{}}"
   ]
  },
  {
   "cell_type": "markdown",
   "metadata": {},
   "source": [
    "### Adjacency matrix\n",
    "\n"
   ]
  },
  {
   "cell_type": "code",
   "execution_count": 13,
   "metadata": {
    "collapsed": true
   },
   "outputs": [],
   "source": [
    "nodes = [\"A\", \"B\", \"C\", \"D\"]\n",
    "nodes_dict = {k:i for i,k in enumerate(nodes)}"
   ]
  },
  {
   "cell_type": "code",
   "execution_count": null,
   "metadata": {
    "collapsed": true
   },
   "outputs": [],
   "source": [
    "values = [1,1,1,1]\n",
    "row_indices = [1, 2, 0, 3]\n",
    "col_indices = [0, 1, 2, 4, 4]"
   ]
  },
  {
   "cell_type": "markdown",
   "metadata": {},
   "source": [
    "## Graph algorithms\n",
    "\n"
   ]
  },
  {
   "cell_type": "code",
   "execution_count": 64,
   "metadata": {},
   "outputs": [
    {
     "name": "stdout",
     "output_type": "stream",
     "text": [
      "[ 0.21260745  0.26418338  0.31060172  0.21260745]\n"
     ]
    }
   ],
   "source": [
    "import numpy as np\n",
    "\n",
    "A = np.array([[0,0,1,0], [1,0,0,0], [0,1,0,0], [0,0,1,0]])\n",
    "d = 0.1\n",
    "T = 1000\n",
    "\n",
    "P = A.copy()\n",
    "P[:, P.sum(0) == 0] = 1\n",
    "P = P / (P.sum(0)+1e-10)\n",
    "Phat = (1-d)*P + d/A.shape[0]*np.ones(A.shape)\n",
    "x = np.ones(A.shape[0])/A.shape[0]\n",
    "for _ in range(T):\n",
    "    x = Phat @ x\n",
    "    x = x/x.sum()\n",
    "print(x)"
   ]
  },
  {
   "cell_type": "markdown",
   "metadata": {},
   "source": [
    "## The NetworkX graph library"
   ]
  },
  {
   "cell_type": "code",
   "execution_count": 3,
   "metadata": {
    "collapsed": true
   },
   "outputs": [],
   "source": [
    "import networkx as nx\n",
    "G_undirected = nx.Graph()\n",
    "G_directed = nx.DiGraph()"
   ]
  },
  {
   "cell_type": "code",
   "execution_count": 25,
   "metadata": {},
   "outputs": [
    {
     "name": "stdout",
     "output_type": "stream",
     "text": [
      "['A', 'B', 'C']\n"
     ]
    }
   ],
   "source": [
    "G = nx.Graph()\n",
    "G.add_node(\"A\")\n",
    "G.add_nodes_from([\"B\",\"C\"])\n",
    "print(G.nodes())"
   ]
  },
  {
   "cell_type": "code",
   "execution_count": 27,
   "metadata": {},
   "outputs": [
    {
     "name": "stdout",
     "output_type": "stream",
     "text": [
      "['B']\n",
      "['A', 'C']\n"
     ]
    }
   ],
   "source": [
    "G.remove_nodes_from([\"A\", \"C\"])\n",
    "print(G.nodes())\n",
    "G.add_nodes_from([\"A\", \"C\"])\n",
    "G.remove_node(\"B\")\n",
    "print(G.nodes())"
   ]
  },
  {
   "cell_type": "code",
   "execution_count": 29,
   "metadata": {},
   "outputs": [
    {
     "name": "stdout",
     "output_type": "stream",
     "text": [
      "['A', 'B', 'C', 'D']\n",
      "[('A', 'B'), ('B', 'C'), ('C', 'A'), ('C', 'D')]\n"
     ]
    }
   ],
   "source": [
    "G = nx.DiGraph()\n",
    "G.add_edges_from([(\"A\",\"B\"), (\"B\",\"C\"), (\"C\",\"A\"), (\"C\",\"D\")])\n",
    "print(G.nodes())\n",
    "print(G.edges())"
   ]
  },
  {
   "cell_type": "code",
   "execution_count": 30,
   "metadata": {},
   "outputs": [
    {
     "name": "stdout",
     "output_type": "stream",
     "text": [
      "[('B', 'C'), ('C', 'A'), ('C', 'D')]\n"
     ]
    }
   ],
   "source": [
    "G.remove_edge(\"A\",\"B\") \n",
    "print(G.edges())"
   ]
  },
  {
   "cell_type": "code",
   "execution_count": 31,
   "metadata": {},
   "outputs": [
    {
     "name": "stdout",
     "output_type": "stream",
     "text": [
      "[('C', 'A'), ('C', 'D')]\n"
     ]
    }
   ],
   "source": [
    "G.remove_edges_from([(\"A\",\"B\"), (\"B\",\"C\")])\n",
    "print(G.edges(), weight)"
   ]
  },
  {
   "cell_type": "code",
   "execution_count": 54,
   "metadata": {},
   "outputs": [
    {
     "name": "stdout",
     "output_type": "stream",
     "text": [
      "[('B', 'C'), ('C', 'D')]\n"
     ]
    }
   ],
   "source": [
    "G = nx.DiGraph()\n",
    "G.add_edges_from([(\"A\",\"B\"), (\"B\",\"C\"), (\"C\",\"A\"), (\"C\",\"D\")])\n",
    "G.remove_node(\"A\")\n",
    "print(G.edges())"
   ]
  },
  {
   "cell_type": "code",
   "execution_count": 51,
   "metadata": {
    "collapsed": true
   },
   "outputs": [],
   "source": [
    "G = nx.DiGraph()\n",
    "G.add_edge(\"A\",\"B\", weight=1.0)\n",
    "G.add_edges_from([(\"A\",\"B\"), (\"B\",\"C\"), (\"C\",\"A\"), (\"C\",\"D\")], weight=\"4.0\")"
   ]
  },
  {
   "cell_type": "code",
   "execution_count": 57,
   "metadata": {},
   "outputs": [
    {
     "name": "stdout",
     "output_type": "stream",
     "text": [
      "{'A': {}, 'D': {}}\n"
     ]
    }
   ],
   "source": [
    "G = nx.DiGraph()\n",
    "G.add_edges_from([(\"A\",\"B\"), (\"B\",\"C\"), (\"C\",\"A\"), (\"C\",\"D\")])\n",
    "print(G[\"C\"])"
   ]
  },
  {
   "cell_type": "code",
   "execution_count": 61,
   "metadata": {
    "collapsed": true
   },
   "outputs": [],
   "source": [
    "G[\"A\"][\"B\"][\"color\"] = \"red\""
   ]
  },
  {
   "cell_type": "code",
   "execution_count": 62,
   "metadata": {},
   "outputs": [
    {
     "name": "stdout",
     "output_type": "stream",
     "text": [
      "{'weight': 1.0, 'color': 'red'}\n"
     ]
    }
   ],
   "source": [
    "G[\"A\"][\"B\"][\"weight\"] = 1.0\n",
    "print(G[\"A\"][\"B\"])"
   ]
  },
  {
   "cell_type": "code",
   "execution_count": 64,
   "metadata": {},
   "outputs": [
    {
     "name": "stdout",
     "output_type": "stream",
     "text": [
      "{'color': 'blue'}\n"
     ]
    }
   ],
   "source": [
    "G.node[\"A\"][\"color\"] = \"blue\"\n",
    "print(G.node[\"A\"])"
   ]
  },
  {
   "cell_type": "code",
   "execution_count": 66,
   "metadata": {},
   "outputs": [
    {
     "name": "stdout",
     "output_type": "stream",
     "text": [
      "['A', 'B', 'C', 'D']\n",
      "[('A', 'B'), ('B', 'C'), ('C', 'A'), ('C', 'D')]\n"
     ]
    }
   ],
   "source": [
    "print(G.nodes())\n",
    "print(G.edges())"
   ]
  },
  {
   "cell_type": "code",
   "execution_count": 67,
   "metadata": {},
   "outputs": [
    {
     "name": "stdout",
     "output_type": "stream",
     "text": [
      "[('A', {'color': 'blue'}), ('B', {}), ('C', {}), ('D', {})]\n",
      "[('A', 'B', {'weight': 1.0, 'color': 'red'}), ('B', 'C', {}), ('C', 'A', {}), ('C', 'D', {})]\n"
     ]
    }
   ],
   "source": [
    "print(G.nodes(data=True))\n",
    "print(G.edges(data=True))"
   ]
  },
  {
   "cell_type": "code",
   "execution_count": 9,
   "metadata": {},
   "outputs": [
    {
     "data": {
      "image/svg+xml": [
       "<?xml version=\"1.0\" encoding=\"utf-8\" standalone=\"no\"?>\n",
       "<!DOCTYPE svg PUBLIC \"-//W3C//DTD SVG 1.1//EN\"\n",
       "  \"http://www.w3.org/Graphics/SVG/1.1/DTD/svg11.dtd\">\n",
       "<!-- Created with matplotlib (http://matplotlib.org/) -->\n",
       "<svg height=\"322pt\" version=\"1.1\" viewBox=\"0 0 481 322\" width=\"481pt\" xmlns=\"http://www.w3.org/2000/svg\" xmlns:xlink=\"http://www.w3.org/1999/xlink\">\n",
       " <defs>\n",
       "  <style type=\"text/css\">\n",
       "*{stroke-linecap:butt;stroke-linejoin:round;}\n",
       "  </style>\n",
       " </defs>\n",
       " <g id=\"figure_1\">\n",
       "  <g id=\"patch_1\">\n",
       "   <path d=\"M 0 322.578125 \n",
       "L 481.182812 322.578125 \n",
       "L 481.182812 0 \n",
       "L 0 0 \n",
       "z\n",
       "\" style=\"fill:#ffffff;\"/>\n",
       "  </g>\n",
       "  <g id=\"axes_1\">\n",
       "   <g id=\"LineCollection_1\">\n",
       "    <path clip-path=\"url(#pee26965ab6)\" d=\"M 75.970416 273.708264 \n",
       "L 163.806919 104.399956 \n",
       "\" style=\"fill:none;stroke:#000000;\"/>\n",
       "    <path clip-path=\"url(#pee26965ab6)\" d=\"M 163.806919 104.399956 \n",
       "L 281.871027 182.124295 \n",
       "\" style=\"fill:none;stroke:#000000;\"/>\n",
       "    <path clip-path=\"url(#pee26965ab6)\" d=\"M 281.871027 182.124295 \n",
       "L 75.970416 273.708264 \n",
       "\" style=\"fill:none;stroke:#000000;\"/>\n",
       "    <path clip-path=\"url(#pee26965ab6)\" d=\"M 281.871027 182.124295 \n",
       "L 432.995209 35.691736 \n",
       "\" style=\"fill:none;stroke:#000000;\"/>\n",
       "   </g>\n",
       "   <g id=\"LineCollection_2\">\n",
       "    <path clip-path=\"url(#pee26965ab6)\" d=\"M 141.847793 146.727033 \n",
       "L 163.806919 104.399956 \n",
       "\" style=\"fill:none;stroke:#000000;stroke-width:4;\"/>\n",
       "    <path clip-path=\"url(#pee26965ab6)\" d=\"M 252.355 162.693211 \n",
       "L 281.871027 182.124295 \n",
       "\" style=\"fill:none;stroke:#000000;stroke-width:4;\"/>\n",
       "    <path clip-path=\"url(#pee26965ab6)\" d=\"M 127.445569 250.812272 \n",
       "L 75.970416 273.708264 \n",
       "\" style=\"fill:none;stroke:#000000;stroke-width:4;\"/>\n",
       "    <path clip-path=\"url(#pee26965ab6)\" d=\"M 395.214164 72.299876 \n",
       "L 432.995209 35.691736 \n",
       "\" style=\"fill:none;stroke:#000000;stroke-width:4;\"/>\n",
       "   </g>\n",
       "   <g id=\"PathCollection_1\">\n",
       "    <defs>\n",
       "     <path d=\"M 0 8.660254 \n",
       "C 2.296726 8.660254 4.499694 7.747755 6.123724 6.123724 \n",
       "C 7.747755 4.499694 8.660254 2.296726 8.660254 0 \n",
       "C 8.660254 -2.296726 7.747755 -4.499694 6.123724 -6.123724 \n",
       "C 4.499694 -7.747755 2.296726 -8.660254 0 -8.660254 \n",
       "C -2.296726 -8.660254 -4.499694 -7.747755 -6.123724 -6.123724 \n",
       "C -7.747755 -4.499694 -8.660254 -2.296726 -8.660254 0 \n",
       "C -8.660254 2.296726 -7.747755 4.499694 -6.123724 6.123724 \n",
       "C -4.499694 7.747755 -2.296726 8.660254 0 8.660254 \n",
       "z\n",
       "\" id=\"m44a3d9e4e9\" style=\"stroke:#ff0000;\"/>\n",
       "    </defs>\n",
       "    <g clip-path=\"url(#pee26965ab6)\">\n",
       "     <use style=\"fill:#ff0000;stroke:#ff0000;\" x=\"75.970416\" xlink:href=\"#m44a3d9e4e9\" y=\"273.708264\"/>\n",
       "     <use style=\"fill:#ff0000;stroke:#ff0000;\" x=\"163.806919\" xlink:href=\"#m44a3d9e4e9\" y=\"104.399956\"/>\n",
       "     <use style=\"fill:#ff0000;stroke:#ff0000;\" x=\"281.871027\" xlink:href=\"#m44a3d9e4e9\" y=\"182.124295\"/>\n",
       "     <use style=\"fill:#ff0000;stroke:#ff0000;\" x=\"432.995209\" xlink:href=\"#m44a3d9e4e9\" y=\"35.691736\"/>\n",
       "    </g>\n",
       "   </g>\n",
       "   <g id=\"text_1\">\n",
       "    <g clip-path=\"url(#pee26965ab6)\">\n",
       "     <!-- A -->\n",
       "     <defs>\n",
       "      <path d=\"M 34.1875 63.1875 \n",
       "L 20.796875 26.90625 \n",
       "L 47.609375 26.90625 \n",
       "z\n",
       "M 28.609375 72.90625 \n",
       "L 39.796875 72.90625 \n",
       "L 67.578125 0 \n",
       "L 57.328125 0 \n",
       "L 50.6875 18.703125 \n",
       "L 17.828125 18.703125 \n",
       "L 11.1875 0 \n",
       "L 0.78125 0 \n",
       "z\n",
       "\" id=\"DejaVuSans-41\"/>\n",
       "     </defs>\n",
       "     <g transform=\"translate(71.866041 277.019514)scale(0.12 -0.12)\">\n",
       "      <use xlink:href=\"#DejaVuSans-41\"/>\n",
       "     </g>\n",
       "    </g>\n",
       "   </g>\n",
       "   <g id=\"text_2\">\n",
       "    <g clip-path=\"url(#pee26965ab6)\">\n",
       "     <!-- B -->\n",
       "     <defs>\n",
       "      <path d=\"M 19.671875 34.8125 \n",
       "L 19.671875 8.109375 \n",
       "L 35.5 8.109375 \n",
       "Q 43.453125 8.109375 47.28125 11.40625 \n",
       "Q 51.125 14.703125 51.125 21.484375 \n",
       "Q 51.125 28.328125 47.28125 31.5625 \n",
       "Q 43.453125 34.8125 35.5 34.8125 \n",
       "z\n",
       "M 19.671875 64.796875 \n",
       "L 19.671875 42.828125 \n",
       "L 34.28125 42.828125 \n",
       "Q 41.5 42.828125 45.03125 45.53125 \n",
       "Q 48.578125 48.25 48.578125 53.8125 \n",
       "Q 48.578125 59.328125 45.03125 62.0625 \n",
       "Q 41.5 64.796875 34.28125 64.796875 \n",
       "z\n",
       "M 9.8125 72.90625 \n",
       "L 35.015625 72.90625 \n",
       "Q 46.296875 72.90625 52.390625 68.21875 \n",
       "Q 58.5 63.53125 58.5 54.890625 \n",
       "Q 58.5 48.1875 55.375 44.234375 \n",
       "Q 52.25 40.28125 46.1875 39.3125 \n",
       "Q 53.46875 37.75 57.5 32.78125 \n",
       "Q 61.53125 27.828125 61.53125 20.40625 \n",
       "Q 61.53125 10.640625 54.890625 5.3125 \n",
       "Q 48.25 0 35.984375 0 \n",
       "L 9.8125 0 \n",
       "z\n",
       "\" id=\"DejaVuSans-42\"/>\n",
       "     </defs>\n",
       "     <g transform=\"translate(159.690357 107.711206)scale(0.12 -0.12)\">\n",
       "      <use xlink:href=\"#DejaVuSans-42\"/>\n",
       "     </g>\n",
       "    </g>\n",
       "   </g>\n",
       "   <g id=\"text_3\">\n",
       "    <g clip-path=\"url(#pee26965ab6)\">\n",
       "     <!-- C -->\n",
       "     <defs>\n",
       "      <path d=\"M 64.40625 67.28125 \n",
       "L 64.40625 56.890625 \n",
       "Q 59.421875 61.53125 53.78125 63.8125 \n",
       "Q 48.140625 66.109375 41.796875 66.109375 \n",
       "Q 29.296875 66.109375 22.65625 58.46875 \n",
       "Q 16.015625 50.828125 16.015625 36.375 \n",
       "Q 16.015625 21.96875 22.65625 14.328125 \n",
       "Q 29.296875 6.6875 41.796875 6.6875 \n",
       "Q 48.140625 6.6875 53.78125 8.984375 \n",
       "Q 59.421875 11.28125 64.40625 15.921875 \n",
       "L 64.40625 5.609375 \n",
       "Q 59.234375 2.09375 53.4375 0.328125 \n",
       "Q 47.65625 -1.421875 41.21875 -1.421875 \n",
       "Q 24.65625 -1.421875 15.125 8.703125 \n",
       "Q 5.609375 18.84375 5.609375 36.375 \n",
       "Q 5.609375 53.953125 15.125 64.078125 \n",
       "Q 24.65625 74.21875 41.21875 74.21875 \n",
       "Q 47.75 74.21875 53.53125 72.484375 \n",
       "Q 59.328125 70.75 64.40625 67.28125 \n",
       "z\n",
       "\" id=\"DejaVuSans-43\"/>\n",
       "     </defs>\n",
       "     <g transform=\"translate(277.681339 185.435545)scale(0.12 -0.12)\">\n",
       "      <use xlink:href=\"#DejaVuSans-43\"/>\n",
       "     </g>\n",
       "    </g>\n",
       "   </g>\n",
       "   <g id=\"text_4\">\n",
       "    <g clip-path=\"url(#pee26965ab6)\">\n",
       "     <!-- D -->\n",
       "     <defs>\n",
       "      <path d=\"M 19.671875 64.796875 \n",
       "L 19.671875 8.109375 \n",
       "L 31.59375 8.109375 \n",
       "Q 46.6875 8.109375 53.6875 14.9375 \n",
       "Q 60.6875 21.78125 60.6875 36.53125 \n",
       "Q 60.6875 51.171875 53.6875 57.984375 \n",
       "Q 46.6875 64.796875 31.59375 64.796875 \n",
       "z\n",
       "M 9.8125 72.90625 \n",
       "L 30.078125 72.90625 \n",
       "Q 51.265625 72.90625 61.171875 64.09375 \n",
       "Q 71.09375 55.28125 71.09375 36.53125 \n",
       "Q 71.09375 17.671875 61.125 8.828125 \n",
       "Q 51.171875 0 30.078125 0 \n",
       "L 9.8125 0 \n",
       "z\n",
       "\" id=\"DejaVuSans-44\"/>\n",
       "     </defs>\n",
       "     <g transform=\"translate(428.375209 39.002986)scale(0.12 -0.12)\">\n",
       "      <use xlink:href=\"#DejaVuSans-44\"/>\n",
       "     </g>\n",
       "    </g>\n",
       "   </g>\n",
       "  </g>\n",
       " </g>\n",
       " <defs>\n",
       "  <clipPath id=\"pee26965ab6\">\n",
       "   <rect height=\"288\" width=\"432\" x=\"38.482813\" y=\"10.7\"/>\n",
       "  </clipPath>\n",
       " </defs>\n",
       "</svg>\n"
      ],
      "text/plain": [
       "<matplotlib.figure.Figure at 0x117a9a470>"
      ]
     },
     "metadata": {},
     "output_type": "display_data"
    }
   ],
   "source": [
    "G = nx.DiGraph()\n",
    "G.add_edges_from([(\"A\",\"B\"), (\"B\",\"C\"), (\"C\",\"A\"), (\"C\",\"D\")])\n",
    "nx.draw(G, with_labels=True)"
   ]
  },
  {
   "cell_type": "code",
   "execution_count": 30,
   "metadata": {},
   "outputs": [
    {
     "data": {
      "image/svg+xml": [
       "<svg height=\"148pt\" viewBox=\"0.00 0.00 251.24 148.20\" width=\"251pt\" xmlns=\"http://www.w3.org/2000/svg\" xmlns:xlink=\"http://www.w3.org/1999/xlink\">\n",
       "<g class=\"graph\" id=\"graph0\" transform=\"scale(1 1) rotate(0) translate(4 144.201)\">\n",
       "<title>%3</title>\n",
       "<polygon fill=\"white\" points=\"-4,4 -4,-144.201 247.241,-144.201 247.241,4 -4,4\" stroke=\"none\"/>\n",
       "<!-- A -->\n",
       "<g class=\"node\" id=\"node1\"><title>A</title>\n",
       "<ellipse cx=\"27\" cy=\"-18\" fill=\"none\" rx=\"27\" ry=\"18\" stroke=\"black\"/>\n",
       "<text font-family=\"Times,serif\" font-size=\"14.00\" text-anchor=\"middle\" x=\"27\" y=\"-13.8\">A</text>\n",
       "</g>\n",
       "<!-- B -->\n",
       "<g class=\"node\" id=\"node2\"><title>B</title>\n",
       "<ellipse cx=\"27\" cy=\"-122.201\" fill=\"none\" rx=\"27\" ry=\"18\" stroke=\"black\"/>\n",
       "<text font-family=\"Times,serif\" font-size=\"14.00\" text-anchor=\"middle\" x=\"27\" y=\"-118.001\">B</text>\n",
       "</g>\n",
       "<!-- A&#45;&gt;B -->\n",
       "<g class=\"edge\" id=\"edge1\"><title>A-&gt;B</title>\n",
       "<path d=\"M27,-36.1505C27,-52.0406 27,-75.3934 27,-93.7632\" fill=\"none\" stroke=\"black\"/>\n",
       "<polygon fill=\"black\" points=\"23.4999,-93.9091 27,-103.909 30.4999,-93.909 23.4999,-93.9091\" stroke=\"black\"/>\n",
       "</g>\n",
       "<!-- C -->\n",
       "<g class=\"node\" id=\"node3\"><title>C</title>\n",
       "<ellipse cx=\"117.241\" cy=\"-70.1006\" fill=\"none\" rx=\"27\" ry=\"18\" stroke=\"black\"/>\n",
       "<text font-family=\"Times,serif\" font-size=\"14.00\" text-anchor=\"middle\" x=\"117.241\" y=\"-65.9006\">C</text>\n",
       "</g>\n",
       "<!-- B&#45;&gt;C -->\n",
       "<g class=\"edge\" id=\"edge2\"><title>B-&gt;C</title>\n",
       "<path d=\"M47.477,-110.379C59.3919,-103.5 74.614,-94.7112 87.7971,-87.0999\" fill=\"none\" stroke=\"black\"/>\n",
       "<polygon fill=\"black\" points=\"89.6222,-90.0877 96.5325,-82.0566 86.1222,-84.0255 89.6222,-90.0877\" stroke=\"black\"/>\n",
       "</g>\n",
       "<!-- C&#45;&gt;A -->\n",
       "<g class=\"edge\" id=\"edge3\"><title>C-&gt;A</title>\n",
       "<path d=\"M96.7638,-58.2782C84.8489,-51.3991 69.6269,-42.6106 56.4437,-34.9993\" fill=\"none\" stroke=\"black\"/>\n",
       "<polygon fill=\"black\" points=\"58.1187,-31.9249 47.7084,-29.956 54.6186,-37.9871 58.1187,-31.9249\" stroke=\"black\"/>\n",
       "</g>\n",
       "<!-- D -->\n",
       "<g class=\"node\" id=\"node4\"><title>D</title>\n",
       "<ellipse cx=\"216.241\" cy=\"-70.1006\" fill=\"none\" rx=\"27\" ry=\"18\" stroke=\"black\"/>\n",
       "<text font-family=\"Times,serif\" font-size=\"14.00\" text-anchor=\"middle\" x=\"216.241\" y=\"-65.9006\">D</text>\n",
       "</g>\n",
       "<!-- C&#45;&gt;D -->\n",
       "<g class=\"edge\" id=\"edge4\"><title>C-&gt;D</title>\n",
       "<path d=\"M144.293,-70.1006C154.988,-70.1006 167.457,-70.1006 178.981,-70.1006\" fill=\"none\" stroke=\"black\"/>\n",
       "<polygon fill=\"black\" points=\"179.221,-73.6007 189.221,-70.1006 179.221,-66.6007 179.221,-73.6007\" stroke=\"black\"/>\n",
       "</g>\n",
       "</g>\n",
       "</svg>"
      ],
      "text/plain": [
       "<IPython.core.display.SVG object>"
      ]
     },
     "execution_count": 30,
     "metadata": {},
     "output_type": "execute_result"
    }
   ],
   "source": [
    "from IPython.display import SVG\n",
    "A = nx.nx_agraph.to_agraph(G)\n",
    "A.draw(\"out.svg\", prog=\"circo\")\n",
    "SVG(\"out.svg\")"
   ]
  },
  {
   "cell_type": "code",
   "execution_count": 80,
   "metadata": {},
   "outputs": [
    {
     "name": "stdout",
     "output_type": "stream",
     "text": [
      "{'A': 0, 'B': 1, 'C': 1, 'D': 2}\n",
      "{'A': ['A'], 'B': ['A', 'B'], 'C': ['A', 'C'], 'D': ['A', 'C', 'D']}\n"
     ]
    }
   ],
   "source": [
    "G = nx.Graph()\n",
    "G.add_edges_from([(\"A\",\"B\"), (\"B\",\"C\"), (\"C\",\"A\"), (\"C\",\"D\")])\n",
    "print(nx.shortest_path_length(G, source=\"A\"))\n",
    "print(nx.shortest_path(G, source=\"A\"))"
   ]
  },
  {
   "cell_type": "code",
   "execution_count": 82,
   "metadata": {},
   "outputs": [
    {
     "data": {
      "text/plain": [
       "{'A': 0.2126075277037968,\n",
       " 'B': 0.2641838185655828,\n",
       " 'C': 0.31060112602682377,\n",
       " 'D': 0.2126075277037968}"
      ]
     },
     "execution_count": 82,
     "metadata": {},
     "output_type": "execute_result"
    }
   ],
   "source": [
    "G = nx.DiGraph()\n",
    "G.add_edges_from([(\"A\",\"B\"), (\"B\",\"C\"), (\"C\",\"A\"), (\"C\",\"D\")])\n",
    "nx.pagerank(G, alpha=0.9)"
   ]
  },
  {
   "cell_type": "code",
   "execution_count": 94,
   "metadata": {},
   "outputs": [
    {
     "data": {
      "text/plain": [
       "[({1, 2, 3, 4, 5, 6, 7}, {8, 9, 10, 11, 12, 13, 14}),\n",
       " ({1, 2, 3}, {4, 5, 6, 7}, {8, 9, 10, 11, 12, 13, 14}),\n",
       " ({1, 2, 3}, {4, 5, 6, 7}, {9, 10, 11}, {8, 12, 13, 14}),\n",
       " ({1, 2, 3}, {4, 5, 6}, {9, 10, 11}, {8, 12, 13, 14}, {7}),\n",
       " ({1, 2, 3}, {4, 5, 6}, {9, 10, 11}, {12, 13, 14}, {7}, {8}),\n",
       " ({1}, {2, 3}, {4, 5, 6}, {9, 10, 11}, {12, 13, 14}, {7}, {8}),\n",
       " ({1}, {2}, {3}, {4, 5, 6}, {9, 10, 11}, {12, 13, 14}, {7}, {8}),\n",
       " ({1}, {2}, {3}, {4}, {5, 6}, {9, 10, 11}, {12, 13, 14}, {7}, {8}),\n",
       " ({1}, {2}, {3}, {4}, {5}, {6}, {9, 10, 11}, {12, 13, 14}, {7}, {8}),\n",
       " ({1}, {2}, {3}, {4}, {5}, {6}, {9}, {10, 11}, {12, 13, 14}, {7}, {8}),\n",
       " ({1}, {2}, {3}, {4}, {5}, {6}, {9}, {10}, {11}, {12, 13, 14}, {7}, {8}),\n",
       " ({1}, {2}, {3}, {4}, {5}, {6}, {9}, {10}, {11}, {12}, {13, 14}, {7}, {8}),\n",
       " ({1}, {2}, {3}, {4}, {5}, {6}, {9}, {10}, {11}, {12}, {13}, {14}, {7}, {8})]"
      ]
     },
     "execution_count": 94,
     "metadata": {},
     "output_type": "execute_result"
    }
   ],
   "source": [
    "G = nx.Graph()\n",
    "G.add_edges_from([(1,2), (1,3), (2,3), (4,5), (4,6), (5,6), \n",
    "                  (9,10), (9,11), (10,11), (12,13), (12,14), (13,14),\n",
    "                  (3,7), (6,7), (7,8), (8,9), (8,12)])\n",
    "communities = nx.community.girvan_newman(G)\n",
    "list(communities)"
   ]
  }
 ],
 "metadata": {
  "kernelspec": {
   "display_name": "Python 3",
   "language": "python",
   "name": "python3"
  },
  "language_info": {
   "codemirror_mode": {
    "name": "ipython",
    "version": 3
   },
   "file_extension": ".py",
   "mimetype": "text/x-python",
   "name": "python",
   "nbconvert_exporter": "python",
   "pygments_lexer": "ipython3",
   "version": "3.8.8"
  }
 },
 "nbformat": 4,
 "nbformat_minor": 2
}
